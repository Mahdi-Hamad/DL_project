{
 "cells": [
  {
   "cell_type": "markdown",
   "metadata": {},
   "source": [
    "## Clustering"
   ]
  },
  {
   "cell_type": "code",
   "execution_count": null,
   "metadata": {},
   "outputs": [],
   "source": [
    "import torch\n",
    "import torch.nn as nn\n",
    "import numpy as np\n",
    "from torch.autograd import Variable\n",
    "import nyu_dataset\n",
    "import pix2pixHD_model\n",
    "from torch.utils.data import DataLoader \n",
    "from sklearn.cluster import KMeans\n",
    "from collections import defaultdict"
   ]
  },
  {
   "cell_type": "code",
   "execution_count": null,
   "metadata": {},
   "outputs": [],
   "source": [
    "_cuda = 2"
   ]
  },
  {
   "cell_type": "code",
   "execution_count": null,
   "metadata": {},
   "outputs": [],
   "source": [
    "encoder = pix2pixHD_model.FeatureEncoder(3, 3, instance_norm=True).cuda(_cuda)\n",
    "encoder.load_state_dict(torch.load('./pix2pixHD_newsegm/models/encoder_170_0'))"
   ]
  },
  {
   "cell_type": "code",
   "execution_count": null,
   "metadata": {},
   "outputs": [],
   "source": [
    "segmentation_dataset_train = nyu_dataset.SegmentationDataset(\n",
    "        transforms=nyu_dataset.SegmentationTransform(resize=False), \n",
    "        use_instance_segmentation=True)\n",
    "data_loader_train = DataLoader(segmentation_dataset_train, batch_size=1, shuffle=True, num_workers=1)"
   ]
  },
  {
   "cell_type": "code",
   "execution_count": null,
   "metadata": {
    "scrolled": false
   },
   "outputs": [],
   "source": [
    "dictionary = {}\n",
    "\n",
    "\n",
    "for image_batch, segmentation_batch, inst_batch, border_batch in data_loader_train:\n",
    "    image = Variable(image_batch.cuda(_cuda), requires_grad=False)\n",
    "    segm = Variable(segmentation_batch.cuda(_cuda), requires_grad=False)\n",
    "    inst = inst_batch.cuda(_cuda)\n",
    "  \n",
    "    encoded = encoder.forward(image, inst)\n",
    "\n",
    "    array_segm = segm.data.cpu().numpy()\n",
    "    array_encoded = encoded.data.cpu().numpy()\n",
    "    classes = range(array_segm.shape[1])\n",
    "\n",
    "    for k in classes:   \n",
    "        idx = np.argwhere(array_segm[0,k,...]==1)\n",
    "        for x, y in idx:\n",
    "            feature_array = tuple(array_encoded[0, :, x, y].tolist())\n",
    "            dictionary.setdefault(k,set()).add(feature_array)"
   ]
  },
  {
   "cell_type": "code",
   "execution_count": null,
   "metadata": {},
   "outputs": [],
   "source": [
    "cluster_centers = defaultdict(list)\n",
    "for k, features in dictionary.items():\n",
    "    kmeans = KMeans(n_clusters = 10).fit([list(feat) for feat in features])\n",
    "    k_centers = kmeans.cluster_centers_\n",
    "    cluster_centers[k].append(k_centers)"
   ]
  },
  {
   "cell_type": "markdown",
   "metadata": {},
   "source": [
    "## Number of instance and number of classes"
   ]
  },
  {
   "cell_type": "code",
   "execution_count": null,
   "metadata": {},
   "outputs": [],
   "source": [
    "i =0 \n",
    "for image, segm, inst, bord in data_loader_val:\n",
    "    image = Variable(image.cuda(_cuda), requires_grad=False, volatile=True)\n",
    "    segm = Variable(segm.cuda(_cuda), requires_grad=False, volatile=True)\n",
    "    inst = inst.cuda(_cuda)\n",
    "    i += 1\n",
    "    if i == 25:\n",
    "        break"
   ]
  },
  {
   "cell_type": "code",
   "execution_count": null,
   "metadata": {},
   "outputs": [],
   "source": [
    "classes_map = np.argmax(segm[0].data.cpu().numpy(), axis=0)\n",
    "\n",
    "instance = inst.cpu().numpy()\n",
    "\n",
    "print(len(np.unique(classes_map)))\n",
    "print(len(np.unique(instance)))"
   ]
  }
 ],
 "metadata": {
  "kernelspec": {
   "display_name": "Python 3",
   "language": "python",
   "name": "python3"
  },
  "language_info": {
   "codemirror_mode": {
    "name": "ipython",
    "version": 3
   },
   "file_extension": ".py",
   "mimetype": "text/x-python",
   "name": "python",
   "nbconvert_exporter": "python",
   "pygments_lexer": "ipython3",
   "version": "3.6.4"
  }
 },
 "nbformat": 4,
 "nbformat_minor": 2
}
